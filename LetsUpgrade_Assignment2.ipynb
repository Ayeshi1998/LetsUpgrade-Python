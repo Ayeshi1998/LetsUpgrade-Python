{
  "nbformat": 4,
  "nbformat_minor": 0,
  "metadata": {
    "colab": {
      "provenance": []
    },
    "kernelspec": {
      "name": "python3",
      "display_name": "Python 3"
    },
    "language_info": {
      "name": "python"
    }
  },
  "cells": [
    {
      "cell_type": "code",
      "execution_count": null,
      "metadata": {
        "id": "FdCm3TP1p_iT"
      },
      "outputs": [],
      "source": [
        "# Write a Program which has function to find out a number is prime or not"
      ]
    },
    {
      "cell_type": "code",
      "source": [
        "def num_is_prime(n):\n",
        "  for r in range(2,n):\n",
        "    if (n%r == 0):\n",
        "      return False\n",
        "    return True"
      ],
      "metadata": {
        "id": "_1UkaVF2EaNN"
      },
      "execution_count": 1,
      "outputs": []
    },
    {
      "cell_type": "code",
      "source": [
        "num_is_prime (13755)"
      ],
      "metadata": {
        "colab": {
          "base_uri": "https://localhost:8080/"
        },
        "id": "VqZEMT8xGBgI",
        "outputId": "ced63361-f0bd-4d9b-dd32-5105d69a6486"
      },
      "execution_count": 2,
      "outputs": [
        {
          "output_type": "execute_result",
          "data": {
            "text/plain": [
              "True"
            ]
          },
          "metadata": {},
          "execution_count": 2
        }
      ]
    },
    {
      "cell_type": "code",
      "source": [
        "num_is_prime (44800)"
      ],
      "metadata": {
        "colab": {
          "base_uri": "https://localhost:8080/"
        },
        "id": "IbtYssnhGIQ2",
        "outputId": "16f626e1-7755-44f3-b311-9cf728ee5809"
      },
      "execution_count": 6,
      "outputs": [
        {
          "output_type": "execute_result",
          "data": {
            "text/plain": [
              "False"
            ]
          },
          "metadata": {},
          "execution_count": 6
        }
      ]
    }
  ]
}