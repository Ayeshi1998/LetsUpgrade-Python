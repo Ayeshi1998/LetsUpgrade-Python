{
  "nbformat": 4,
  "nbformat_minor": 0,
  "metadata": {
    "colab": {
      "provenance": []
    },
    "kernelspec": {
      "name": "python3",
      "display_name": "Python 3"
    },
    "language_info": {
      "name": "python"
    }
  },
  "cells": [
    {
      "cell_type": "code",
      "execution_count": 1,
      "metadata": {
        "id": "-ITLiEFwXOi5"
      },
      "outputs": [],
      "source": [
        "# Write a Python program to find whether a given number (accept from the user) is even or odd"
      ]
    },
    {
      "cell_type": "code",
      "source": [
        "def Odd_or_Even(input):\n",
        "  if input%2 == 0:\n",
        "    print ('It is an even number')\n",
        "  else:\n",
        "    print ('It is an odd number')"
      ],
      "metadata": {
        "id": "MmlxK-3bXm0w"
      },
      "execution_count": 2,
      "outputs": []
    },
    {
      "cell_type": "code",
      "source": [
        "Odd_or_Even (1376)"
      ],
      "metadata": {
        "colab": {
          "base_uri": "https://localhost:8080/"
        },
        "id": "4hcmIhKCY-Hr",
        "outputId": "b615f9a5-a620-4275-d2b8-257ce22dc6ba"
      },
      "execution_count": 3,
      "outputs": [
        {
          "output_type": "stream",
          "name": "stdout",
          "text": [
            "It is an even number\n"
          ]
        }
      ]
    },
    {
      "cell_type": "code",
      "source": [
        "Odd_or_Even (45731)"
      ],
      "metadata": {
        "colab": {
          "base_uri": "https://localhost:8080/"
        },
        "id": "siGl2x9UZFyX",
        "outputId": "f3d84476-41c8-40c8-de90-9d9b7723fe14"
      },
      "execution_count": 5,
      "outputs": [
        {
          "output_type": "stream",
          "name": "stdout",
          "text": [
            "It is an odd number\n"
          ]
        }
      ]
    }
  ]
}